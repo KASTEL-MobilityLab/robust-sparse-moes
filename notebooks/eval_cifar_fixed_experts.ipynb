{
 "cells": [
  {
   "cell_type": "code",
   "execution_count": 1,
   "metadata": {},
   "outputs": [
    {
     "name": "stdout",
     "output_type": "stream",
     "text": [
      "/disk/.."
     ]
    }
   ],
   "source": [
    "import os\n",
    "os.chdir('/disk/...')  \n",
    "print(os.getcwd())"
   ]
  },
  {
   "cell_type": "code",
   "execution_count": 2,
   "metadata": {
    "pycharm": {
     "name": "#%%\n"
    }
   },
   "outputs": [
    {
     "data": {
      "text/plain": [
       "False"
      ]
     },
     "execution_count": 2,
     "metadata": {},
     "output_type": "execute_result"
    }
   ],
   "source": [
    "from functools import partial\n",
    "from typing import List\n",
    "\n",
    "from dotenv import load_dotenv\n",
    "import numpy as np\n",
    "\n",
    "from src.utils.wandb import get_runs\n",
    "\n",
    "load_dotenv(\"../.env\")"
   ]
  },
  {
   "cell_type": "code",
   "execution_count": 3,
   "metadata": {
    "pycharm": {
     "name": "#%%\n"
    }
   },
   "outputs": [],
   "source": [
    "import pandas as pd\n",
    "import wandb\n",
    "\n",
    "\n",
    "def lmap(*x):\n",
    "    return list(map(*x))\n",
    "\n",
    "\n",
    "api = wandb.Api()"
   ]
  },
  {
   "cell_type": "code",
   "execution_count": 4,
   "metadata": {
    "pycharm": {
     "name": "#%%\n"
    }
   },
   "outputs": [],
   "source": [
    "def match_fixed_expert_accuracies(num_experts_list, fe_accs_list):\n",
    "    fe_data = [\n",
    "        (num_experts, fe_acc)\n",
    "        for num_experts, fe_accs in zip(num_experts_list, fe_accs_list)\n",
    "        for fe_acc in fe_accs\n",
    "    ]\n",
    "    return np.array(fe_data, dtype=float)"
   ]
  },
  {
   "cell_type": "code",
   "execution_count": 5,
   "metadata": {
    "pycharm": {
     "name": "#%%\n"
    }
   },
   "outputs": [],
   "source": [
    "import seaborn as sns\n",
    "import matplotlib.pyplot as plt\n",
    "\n",
    "\n",
    "def plot_fixed_experts(\n",
    "    num_experts_list,\n",
    "    accs,\n",
    "    fe_data_np,\n",
    "    fe_data_brown_np=None,\n",
    "    show_accs=True,\n",
    "    show_fe_scatter=True,\n",
    "    show_sota=False,\n",
    "    ylabel=\"Adversarial Accuracy\",\n",
    "    baseline=0.178,\n",
    "):\n",
    "    np.random.seed(1)\n",
    "\n",
    "    plt.xticks(num_experts_list)\n",
    "    # plt.xlim(1.5,max(num_experts_list)+1)\n",
    "    plt.ylabel(ylabel)\n",
    "    plt.xlabel(\"Number of Experts\")\n",
    "\n",
    "    legend = [\"ResNet18 Baseline\"]\n",
    "    plt.axhline(baseline, color=\"green\", linestyle=\"--\")\n",
    "    (accs_line,) = plt.plot(num_experts_list, accs, marker=\"x\")\n",
    "\n",
    "    if show_accs:\n",
    "        legend.append(\"ResNet18-BlockMoE; k=1\")\n",
    "    else:\n",
    "        accs_line.remove()\n",
    "\n",
    "    if show_fe_scatter and len(fe_data_np) > 0:\n",
    "        fe_data_np = np.copy(fe_data_np)\n",
    "        fe_data_np[:, 0] += fe_data_np[:, 0] * np.random.uniform(\n",
    "            -0.1, 0.1, size=fe_data_np.shape[0]\n",
    "        )\n",
    "        sns.scatterplot(x=fe_data_np[:, 0], y=fe_data_np[:, 1], color=\"brown\")\n",
    "        legend.append(\"Fixed Expert (robust)\")\n",
    "\n",
    "    if show_fe_scatter and fe_data_brown_np is not None and len(fe_data_brown_np) > 0:\n",
    "        fe_data_brown_np = np.copy(fe_data_brown_np)\n",
    "        fe_data_brown_np[:, 0] += fe_data_brown_np[:, 0] * np.random.uniform(\n",
    "            -0.1, 0.1, size=fe_data_brown_np.shape[0]\n",
    "        )\n",
    "        sns.scatterplot(x=fe_data_brown_np[:, 0], y=fe_data_brown_np[:, 1])\n",
    "        legend.append(\"Fixed Expert\")\n",
    "\n",
    "    if show_sota:\n",
    "        plt.axhspan(0.25, 0.27, color=\"red\", linestyle=\"--\", alpha=0.3)\n",
    "        legend.append(\"ResNet18 SOTA\")\n",
    "\n",
    "    plt.legend(legend)\n",
    "    plt.semilogx(base=2)\n",
    "    # plt.ylim(0.05, 0.3)"
   ]
  },
  {
   "cell_type": "code",
   "execution_count": 7,
   "metadata": {
    "pycharm": {
     "name": "#%%\n"
    }
   },
   "outputs": [
    {
     "name": "stderr",
     "output_type": "stream",
     "text": [
      "\u001b[34m\u001b[1mwandb\u001b[0m: Using wandb-core as the SDK backend.  Please refer to https://wandb.me/wandb-core for more information.\n",
      "\u001b[34m\u001b[1mwandb\u001b[0m: Currently logged in as: \u001b[33mfanhaixi\u001b[0m to \u001b[32mhttps://api.wandb.ai\u001b[0m. Use \u001b[1m`wandb login --relogin`\u001b[0m to force relogin\n"
     ]
    },
    {
     "data": {
      "text/html": [
       "Tracking run with wandb version 0.19.9"
      ],
      "text/plain": [
       "<IPython.core.display.HTML object>"
      ]
     },
     "metadata": {},
     "output_type": "display_data"
    },
    {
     "data": {
      "text/html": [
       "Run data is saved locally in <code>/...</code>"
      ],
      "text/plain": [
       "<IPython.core.display.HTML object>"
      ]
     },
     "metadata": {},
     "output_type": "display_data"
    },
    {
     "data": {
      "text/html": [
       "Syncing run <strong><a href='https://wandb.ai/fanhaixi/robust-cifar100-resnet-moe/runs/dk9mwtg0' target=\"_blank\">exalted-salad-567</a></strong> to <a href='https://wandb.ai/fanhaixi/robust-cifar100-resnet-moe' target=\"_blank\">Weights & Biases</a> (<a href='https://wandb.me/developer-guide' target=\"_blank\">docs</a>)<br>"
      ],
      "text/plain": [
       "<IPython.core.display.HTML object>"
      ]
     },
     "metadata": {},
     "output_type": "display_data"
    },
    {
     "data": {
      "text/html": [
       " View project at <a href='https://wandb.ai/fanhaixi/robust-cifar100-resnet-moe' target=\"_blank\">https://wandb.ai/fanhaixi/robust-cifar100-resnet-moe</a>"
      ],
      "text/plain": [
       "<IPython.core.display.HTML object>"
      ]
     },
     "metadata": {},
     "output_type": "display_data"
    },
    {
     "data": {
      "text/html": [
       " View run at <a href='https://wandb.ai/fanhaixi/robust-cifar100-resnet-moe/runs/dk9mwtg0' target=\"_blank\">https://wandb.ai/fanhaixi/robust-cifar100-resnet-moe/runs/dk9mwtg0</a>"
      ],
      "text/plain": [
       "<IPython.core.display.HTML object>"
      ]
     },
     "metadata": {},
     "output_type": "display_data"
    }
   ],
   "source": [
    "import wandb\n",
    "\n",
    "run = wandb.init(project=\"robust-cifar100-resnet-moe\")"
   ]
  },
  {
   "cell_type": "code",
   "execution_count": null,
   "metadata": {
    "pycharm": {
     "name": "#%%\n"
    }
   },
   "outputs": [],
   "source": [
    "import pandas as pd\n",
    "import torch\n",
    "import json\n",
    "\n",
    "\n",
    "\n",
    "\n",
    "\n",
    "# def get_table(artifact_run, table_names):\n",
    "#     if isinstance(table_names, str):\n",
    "#         table_names = [table_names]\n",
    "#     id = artifact_run.id\n",
    "#     for table_name in table_names:\n",
    "#         try:\n",
    "#             short_table_name = table_name.replace(\"-\", \"\")\n",
    "#             my_table = wandb.use_artifact(f\"run-{id}-{short_table_name}:v0\").get(\n",
    "#                 f\"{table_name}.table.json\"\n",
    "#             )\n",
    "#             return my_table\n",
    "#         except Exception as e:\n",
    "#             print(f\"Ignoring error: {e}\")\n",
    "#     raise ValueError(\"None of the given tables could be found!\")\n",
    "class SimpleTable:\n",
    "    def __init__(self, columns, data):\n",
    "        self.columns = columns\n",
    "        self.data = data\n",
    "        \n",
    "    def get_column(self, col_name):\n",
    "        idx = self.columns.index(col_name)\n",
    "        return [row[idx] for row in self.data]\n",
    "\n",
    "def get_table(artifact_run, table_names):\n",
    "    if isinstance(table_names, str):\n",
    "        table_names = [table_names]\n",
    "    run_id = artifact_run.id\n",
    "\n",
    "    for table_name in table_names:\n",
    "        short_name = table_name.replace(\"-\", \"\")\n",
    "        artifact_ref = f\"run-{run_id}-{table_name}:latest\"\n",
    "        try:\n",
    "            artifact = wandb.use_artifact(artifact_ref)\n",
    "            local_dir = artifact.download()\n",
    "            json_path = os.path.join(local_dir, f\"{table_name}.table.json\")\n",
    "            with open(json_path, \"r\") as f:\n",
    "                raw = json.load(f)\n",
    "            return SimpleTable(columns=raw[\"columns\"], data=raw[\"data\"])\n",
    "        except Exception as e:\n",
    "            print(f\"Ignoring error: {e}\")\n",
    "\n",
    "    raise ValueError(\"None of the given tables could be found!\")\n",
    "\n",
    "\n",
    "def load_expert_accs(runs: list, table_names=\"loss_plot_PGD-20-8-2_table\", column=\"Metric\"):\n",
    "    accs = []\n",
    "    fe_accs_list = []\n",
    "    for run in runs:\n",
    "        table = get_table(run, table_names)\n",
    "        all_experts_acc, fe_accs = load_fixed_expert_table(table, column=column)\n",
    "        accs.append(all_experts_acc)\n",
    "        fe_accs_list.append(fe_accs)\n",
    "        print(f\"fe_accs_list:\", fe_accs_list)\n",
    "    return accs, fe_accs_list\n",
    "\n",
    "\n",
    "# def fixed_expert_performance_plots(runs, figure_prefix, baseline_natural, baseline_attacked):\n",
    "#     accs_list, fe_accs_list = load_expert_accs(\n",
    "#         runs, table_names=(\"performance_plot_natural_table\")\n",
    "#     )\n",
    "#     accs_robust_list, fe_accs_robust_list = load_expert_accs(\n",
    "#         runs, table_names=(\"performance_plot_PGD-20-8-2_table\")\n",
    "#     )\n",
    "#     #%%\n",
    "#     fe_data_np = match_fixed_expert_accuracies(num_experts_list, fe_accs_list)\n",
    "#     fe_data_robust_np = match_fixed_expert_accuracies(num_experts_list, fe_accs_robust_list)\n",
    "#     #%%\n",
    "#     accs_robust_np = np.array(\n",
    "#         [accs_robust_list[num_experts_list.index(x)] for x in fe_data_robust_np[:, 0]]\n",
    "#     )\n",
    "#     accs_robust_up = fe_data_robust_np[:, 1] >= accs_robust_np\n",
    "#     fe_data_robust_up = fe_data_robust_np[accs_robust_up]\n",
    "#     fe_data_robust_down = fe_data_robust_np[~accs_robust_up]\n",
    "\n",
    "#     fe_data_up = fe_data_np[accs_robust_up]\n",
    "#     fe_data_down = fe_data_np[~accs_robust_up]\n",
    "\n",
    "#     #%%\n",
    "#     plot_fixed_experts(\n",
    "#         num_experts_list,\n",
    "#         accs_robust_list,\n",
    "#         fe_data_robust_up,\n",
    "#         fe_data_brown_np=fe_data_robust_down,\n",
    "#         show_fe_scatter=True,\n",
    "#         show_sota=False,\n",
    "#         baseline=baseline_attacked,\n",
    "#     )\n",
    "#     plt.savefig(f\"{figure_prefix}_adv_fixed_expert_plot.png\")\n",
    "#     plt.show()\n",
    "\n",
    "#     plot_fixed_experts(\n",
    "#         num_experts_list,\n",
    "#         accs_list,\n",
    "#         fe_data_up,\n",
    "#         fe_data_brown_np=fe_data_down,\n",
    "#         show_fe_scatter=True,\n",
    "#         show_sota=False,\n",
    "#         ylabel=\"Accuracy\",\n",
    "#         baseline=baseline_natural,\n",
    "#     )\n",
    "#     plt.savefig(f\"{figure_prefix}_natural_fixed_expert_plot.png\")\n",
    "#     plt.show()\n",
    "def fixed_expert_performance_plots(runs, figure_prefix, baseline_natural, baseline_attacked):\n",
    "    accs_list, fe_accs_list = load_expert_accs(\n",
    "        runs, table_names=(\"performance_plot_natural_table\")\n",
    "    )\n",
    "    accs_robust_list, fe_accs_robust_list = load_expert_accs(\n",
    "        runs, table_names=(\"performance_plot_PGD-20-8-2_table\")\n",
    "    )\n",
    "    #%%\n",
    "    fe_data_np = match_fixed_expert_accuracies(num_experts_list, fe_accs_list)\n",
    "    fe_data_robust_np = match_fixed_expert_accuracies(num_experts_list, fe_accs_robust_list)\n",
    "    #%%\n",
    "    accs_robust_np = np.array(\n",
    "        [accs_robust_list[num_experts_list.index(x)] for x in fe_data_robust_np[:, 0]]\n",
    "    )\n",
    "    accs_robust_up = fe_data_robust_np[:, 1] >= accs_robust_np\n",
    "    fe_data_robust_up = fe_data_robust_np[accs_robust_up]\n",
    "    fe_data_robust_down = fe_data_robust_np[~accs_robust_up]\n",
    "\n",
    "    fe_data_up = fe_data_np[accs_robust_up]\n",
    "    fe_data_down = fe_data_np[~accs_robust_up]\n",
    "\n",
    "    #%%\n",
    "    os.makedirs(os.path.dirname(f\"{figure_prefix}_adv_fixed_expert_plot.png\"), exist_ok=True)\n",
    "\n",
    "    plot_fixed_experts(\n",
    "        num_experts_list,\n",
    "        accs_robust_list,\n",
    "        fe_data_robust_up,\n",
    "        fe_data_brown_np=fe_data_robust_down,\n",
    "        show_fe_scatter=True,\n",
    "        show_sota=False,\n",
    "        baseline=baseline_attacked,\n",
    "    )\n",
    "    plt.savefig(f\"{figure_prefix}_adv_fixed_expert_plot.png\")\n",
    "    plt.show()\n",
    "\n",
    "    os.makedirs(os.path.dirname(f\"{figure_prefix}_natural_fixed_expert_plot.png\"), exist_ok=True)\n",
    "\n",
    "    plot_fixed_experts(\n",
    "        num_experts_list,\n",
    "        accs_list,\n",
    "        fe_data_up,\n",
    "        fe_data_brown_np=fe_data_down,\n",
    "        show_fe_scatter=True,\n",
    "        show_sota=False,\n",
    "        ylabel=\"Accuracy\",\n",
    "        baseline=baseline_natural,\n",
    "    )\n",
    "    plt.savefig(f\"{figure_prefix}_natural_fixed_expert_plot.png\")\n",
    "    plt.show()"
   ]
  },
  {
   "cell_type": "code",
   "execution_count": 9,
   "metadata": {
    "pycharm": {
     "name": "#%%\n"
    }
   },
   "outputs": [],
   "source": [
    "api = wandb.Api()"
   ]
  },
  {
   "cell_type": "code",
   "execution_count": 10,
   "metadata": {
    "pycharm": {
     "name": "#%%\n"
    }
   },
   "outputs": [],
   "source": [
    "all_runs: List[wandb.wandb_sdk.wandb_run.Run] = api.runs(\"robust-cifar100-resnet-moe\")"
   ]
  },
  {
   "cell_type": "code",
   "execution_count": 11,
   "metadata": {
    "pycharm": {
     "name": "#%%\n"
    }
   },
   "outputs": [],
   "source": [
    "def select(names, tag, run):\n",
    "    return run.name in names and tag in run.tags\n",
    "\n",
    "\n",
    "def filter_sorted(names, tag):\n",
    "    runs = {run.name: run for run in filter(partial(select, names, tag), all_runs)}\n",
    "    return [runs[name] for name in names]\n",
    "\n"
   ]
  },
  {
   "cell_type": "code",
   "execution_count": 12,
   "metadata": {},
   "outputs": [],
   "source": [
    "# num_experts_list = [2,8,16,32]\n",
    "# names = [f\"evaluate-cifar100-resnet18-block-moe{ne}-GALRN-1-switch\" for ne in num_experts_list]\n",
    "# for run in all_runs:\n",
    "#     if run.name in names:\n",
    "#         print(run.name, run.tags)\n"
   ]
  },
  {
   "cell_type": "code",
   "execution_count": 128,
   "metadata": {},
   "outputs": [],
   "source": [
    "# wandb.run==\"evaluate-cifar100-resnet18-block-moe2-GALRN-1-switch\"\n",
    "# print(wandb.run.id)\n",
    "# table_names=(\"performance_plot_natural_table\", \"loss_plot_natural_table\")\n",
    "# table = get_table(run, table_names)\n",
    "# print(table)"
   ]
  },
  {
   "cell_type": "code",
   "execution_count": 6,
   "metadata": {
    "pycharm": {
     "name": "#%%\n"
    },
    "scrolled": true
   },
   "outputs": [
    {
     "ename": "NameError",
     "evalue": "name 'all_runs' is not defined",
     "output_type": "error",
     "traceback": [
      "\u001b[0;31m---------------------------------------------------------------------------\u001b[0m",
      "\u001b[0;31mNameError\u001b[0m                                 Traceback (most recent call last)",
      "Cell \u001b[0;32mIn[6], line 9\u001b[0m\n\u001b[1;32m      2\u001b[0m run_names \u001b[38;5;241m=\u001b[39m [\u001b[38;5;124mf\u001b[39m\u001b[38;5;124m\"\u001b[39m\u001b[38;5;124mevaluate-cifar100-resnet18-block-moe\u001b[39m\u001b[38;5;132;01m{\u001b[39;00mne\u001b[38;5;132;01m}\u001b[39;00m\u001b[38;5;124m-GALRN-1-switch\u001b[39m\u001b[38;5;124m\"\u001b[39m \u001b[38;5;28;01mfor\u001b[39;00m ne \u001b[38;5;129;01min\u001b[39;00m num_experts_list]\n\u001b[1;32m      3\u001b[0m \u001b[38;5;66;03m# for tag in (\"entropy\", \"switch\"):\u001b[39;00m\n\u001b[1;32m      4\u001b[0m \u001b[38;5;66;03m#     natural_runs = filter_sorted(run_names, tag)\u001b[39;00m\n\u001b[1;32m      5\u001b[0m \u001b[38;5;66;03m#     figure_prefix = f\"fixed_expert_plots/cifar_{tag}\"\u001b[39;00m\n\u001b[1;32m      6\u001b[0m \u001b[38;5;66;03m#     fixed_expert_performance_plots(\u001b[39;00m\n\u001b[1;32m      7\u001b[0m \u001b[38;5;66;03m#         natural_runs, figure_prefix, baseline_natural=0.7301, baseline_attacked=1e-4\u001b[39;00m\n\u001b[1;32m      8\u001b[0m \u001b[38;5;66;03m#     )\u001b[39;00m\n\u001b[0;32m----> 9\u001b[0m natural_runs \u001b[38;5;241m=\u001b[39m [run \u001b[38;5;28;01mfor\u001b[39;00m run \u001b[38;5;129;01min\u001b[39;00m \u001b[43mall_runs\u001b[49m \u001b[38;5;28;01mif\u001b[39;00m run\u001b[38;5;241m.\u001b[39mname \u001b[38;5;129;01min\u001b[39;00m run_names]\n\u001b[1;32m     10\u001b[0m \u001b[38;5;28mprint\u001b[39m([run\u001b[38;5;241m.\u001b[39mid \u001b[38;5;28;01mfor\u001b[39;00m run \u001b[38;5;129;01min\u001b[39;00m natural_runs])\n\u001b[1;32m     11\u001b[0m figure_prefix \u001b[38;5;241m=\u001b[39m \u001b[38;5;124m\"\u001b[39m\u001b[38;5;124mfixed_expert_plots/cifar-switch\u001b[39m\u001b[38;5;124m\"\u001b[39m\n",
      "\u001b[0;31mNameError\u001b[0m: name 'all_runs' is not defined"
     ]
    }
   ],
   "source": [
    "num_experts_list = [2,4]\n",
    "run_names = [f\"evaluate-cifar100-resnet18-block-moe{ne}-GALRN-1-switch\" for ne in num_experts_list]\n",
    "# for tag in (\"entropy\", \"switch\"):\n",
    "#     natural_runs = filter_sorted(run_names, tag)\n",
    "#     figure_prefix = f\"fixed_expert_plots/cifar_{tag}\"\n",
    "#     fixed_expert_performance_plots(\n",
    "#         natural_runs, figure_prefix, baseline_natural=0.7301, baseline_attacked=1e-4\n",
    "#     )\n",
    "natural_runs = [run for run in all_runs if run.name in run_names]\n",
    "print([run.id for run in natural_runs])\n",
    "figure_prefix = \"fixed_expert_plots/cifar-switch\"\n",
    "fixed_expert_performance_plots(\n",
    "    natural_runs,\n",
    "    figure_prefix,\n",
    "    baseline_natural=0.7301,\n",
    "    baseline_attacked=1e-4\n",
    ")"
   ]
  },
  {
   "cell_type": "code",
   "execution_count": null,
   "metadata": {
    "pycharm": {
     "name": "#%%\n"
    },
    "scrolled": true
   },
   "outputs": [],
   "source": [
    "robust_run_names = [\n",
    "    f\"evaluate-cifar100-resnet18-pgd-adv-train-block-moe{ne}-GALRN-1-switch\" for ne in num_experts_list\n",
    "]\n",
    "for tag in (\"entropy\", \"switch\"):\n",
    "    robust_runs = filter_sorted(robust_run_names, tag)\n",
    "    figure_prefix = f\"fixed_expert_plots/cifar_robust_{tag}\"\n",
    "    fixed_expert_performance_plots(\n",
    "        robust_runs, figure_prefix, baseline_natural=0.5232, baseline_attacked=0.178\n",
    "    )"
   ]
  },
  {
   "cell_type": "code",
   "execution_count": null,
   "metadata": {},
   "outputs": [],
   "source": []
  }
 ],
 "metadata": {
  "kernelspec": {
   "display_name": "Python 3 (ipykernel)",
   "language": "python",
   "name": "python3"
  },
  "language_info": {
   "codemirror_mode": {
    "name": "ipython",
    "version": 3
   },
   "file_extension": ".py",
   "mimetype": "text/x-python",
   "name": "python",
   "nbconvert_exporter": "python",
   "pygments_lexer": "ipython3",
   "version": "3.10.16"
  }
 },
 "nbformat": 4,
 "nbformat_minor": 1
}
