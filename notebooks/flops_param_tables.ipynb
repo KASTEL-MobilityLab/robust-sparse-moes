{
 "cells": [
  {
   "cell_type": "code",
   "execution_count": 4,
   "metadata": {},
   "outputs": [
    {
     "name": "stdout",
     "output_type": "stream",
     "text": [
      "/..."
     ]
    }
   ],
   "source": [
    "import os\n",
    "os.chdir('/...')  \n",
    "print(os.getcwd())"
   ]
  },
  {
   "cell_type": "code",
   "execution_count": 5,
   "metadata": {
    "pycharm": {
     "name": "#%%\n"
    }
   },
   "outputs": [],
   "source": [
    "from src.models.nn.moe.resnet_block_moe import ResNetBlockMoE\n",
    "from src.models.nn.moe.routing import GlobalAvgLinearRoutingNetwork\n",
    "from src.models.nn.moe.resnet_conv_moe import ResNetConvMoE\n",
    "\n",
    "MOE_TYPE = ResNetBlockMoE"
   ]
  },
  {
   "cell_type": "code",
   "execution_count": 7,
   "metadata": {
    "pycharm": {
     "name": "#%%\n"
    }
   },
   "outputs": [
    {
     "ename": "ModuleNotFoundError",
     "evalue": "No module named 'torchinfo'",
     "output_type": "error",
     "traceback": [
      "\u001b[0;31m---------------------------------------------------------------------------\u001b[0m",
      "\u001b[0;31mModuleNotFoundError\u001b[0m                       Traceback (most recent call last)",
      "Cell \u001b[0;32mIn[7], line 1\u001b[0m\n\u001b[0;32m----> 1\u001b[0m \u001b[38;5;28;01mimport\u001b[39;00m\u001b[38;5;250m \u001b[39m\u001b[38;5;21;01mtorchinfo\u001b[39;00m\n\u001b[1;32m      2\u001b[0m \u001b[38;5;28;01mfrom\u001b[39;00m\u001b[38;5;250m \u001b[39m\u001b[38;5;21;01mtorchinfo\u001b[39;00m\u001b[38;5;250m \u001b[39m\u001b[38;5;28;01mimport\u001b[39;00m summary\n\u001b[1;32m      5\u001b[0m \u001b[38;5;28;01mdef\u001b[39;00m\u001b[38;5;250m \u001b[39m\u001b[38;5;21mget_models\u001b[39m(k\u001b[38;5;241m=\u001b[39m\u001b[38;5;241m1\u001b[39m):\n",
      "\u001b[0;31mModuleNotFoundError\u001b[0m: No module named 'torchinfo'"
     ]
    }
   ],
   "source": [
    "import torchinfo\n",
    "from torchinfo import summary\n",
    "\n",
    "\n",
    "def get_models(k=1):\n",
    "    models = [\n",
    "        MOE_TYPE(\n",
    "            routing_layer_type=GlobalAvgLinearRoutingNetwork,\n",
    "            layers=18,\n",
    "            num_experts=ne,\n",
    "            k=k if k >= 1 else max(round(ne * k), 1),\n",
    "        )\n",
    "        for ne in (1, 2, 4, 8, 16, 32)\n",
    "    ]\n",
    "    return models\n",
    "\n",
    "\n",
    "params = [summary(model).total_params for model in get_models(k=1)]\n",
    "\n",
    "\n",
    "def multi_adds(k=1):\n",
    "    models = get_models(k)\n",
    "    return [summary(model, input_size=(1, 1, 28, 28)).total_mult_adds for model in models]"
   ]
  },
  {
   "cell_type": "code",
   "execution_count": null,
   "metadata": {
    "pycharm": {
     "name": "#%%\n"
    }
   },
   "outputs": [],
   "source": [
    "import matplotlib.pyplot as plt\n",
    "import numpy as np\n",
    "\n",
    "plt.plot(params, multi_adds(k=0.99), marker=\"o\")\n",
    "plt.plot(params, multi_adds(k=0.5), marker=\"o\")\n",
    "plt.plot(params, multi_adds(k=2), marker=\"o\")\n",
    "plt.plot(params, multi_adds(k=1), marker=\"o\")\n",
    "plt.legend([\"k = #Experts\", \"k = 0.5 #Experts\", \"k = 2\", \"k = 1\"])\n",
    "# plt.xlim(0)\n",
    "# plt.ylim(0)\n",
    "plt.ylabel(\"FLOPs\")\n",
    "plt.xlabel(\"Parameters\")\n",
    "plt.xscale(\"log\")\n",
    "plt.yscale(\"log\")\n",
    "plt.savefig(\"resnet_block_moe_flops_params.png\")"
   ]
  },
  {
   "cell_type": "code",
   "execution_count": null,
   "metadata": {
    "pycharm": {
     "name": "#%%\n"
    }
   },
   "outputs": [],
   "source": []
  },
  {
   "cell_type": "code",
   "execution_count": null,
   "metadata": {
    "pycharm": {
     "name": "#%%\n"
    }
   },
   "outputs": [],
   "source": []
  }
 ],
 "metadata": {
  "kernelspec": {
   "display_name": "robust_moe",
   "language": "python",
   "name": "python3"
  },
  "language_info": {
   "codemirror_mode": {
    "name": "ipython",
    "version": 3
   },
   "file_extension": ".py",
   "mimetype": "text/x-python",
   "name": "python",
   "nbconvert_exporter": "python",
   "pygments_lexer": "ipython3",
   "version": "3.10.16"
  }
 },
 "nbformat": 4,
 "nbformat_minor": 0
}
