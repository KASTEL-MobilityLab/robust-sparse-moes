{
 "cells": [
  {
   "cell_type": "code",
   "execution_count": null,
   "metadata": {
    "pycharm": {
     "name": "#%%\n"
    }
   },
   "outputs": [],
   "source": [
    "from functools import partial\n",
    "\n",
    "import numpy as np\n",
    "import pandas as pd\n",
    "\n",
    "from src.utils.latex import bold_formatter\n",
    "from src.utils.wandb import get_runs\n",
    "\n",
    "\n",
    "def printnames(runs):\n",
    "    print(f\"{len(runs)} runs:\")\n",
    "    for run in runs:\n",
    "        print(run.name)"
   ]
  },
  {
   "cell_type": "code",
   "execution_count": null,
   "metadata": {
    "pycharm": {
     "name": "#%%\n"
    }
   },
   "outputs": [],
   "source": [
    "def table_for_runs(runs, acc_key=\"test/acc\", baseline_acc=0.7301):\n",
    "    loss_types = [\"switch\" if \"switch\" in run.tags else \"entropy\" for run in runs]\n",
    "    architectures = [\"BlockMoE\" if \"block\" in run.name else \"ConvMoE\" for run in runs]\n",
    "    gates = [\"CGARN\" if \"CGARN\" in run.name else \"GALRN\" for run in runs]\n",
    "    ks = np.array([int(run.name[-1]) for run in runs])\n",
    "\n",
    "    keys = list(tuple(x) for x in zip(loss_types, architectures, gates, ks))\n",
    "    accs = {key: run.summary[acc_key] for key, run in zip(keys, runs)}\n",
    "\n",
    "    def filter_by_k(it, k):\n",
    "        return [item for idx, item in enumerate(it) if ks[idx] == k]\n",
    "\n",
    "    loss_types = filter_by_k(loss_types, k=1)\n",
    "    architectures = filter_by_k(architectures, k=1)\n",
    "    gates = filter_by_k(gates, k=1)\n",
    "\n",
    "    accsks = [filter_by_k(accs, k=k) for k in (1, 2, 3, 4)]\n",
    "\n",
    "    data = zip(loss_types, architectures, gates, *accsks)\n",
    "\n",
    "    def sort_order(data, *order):\n",
    "        for i in order:\n",
    "            data = sorted(data, key=lambda o: o[i])\n",
    "        return data\n",
    "\n",
    "    k1keys = list(sorted(k[:-1] for k in keys if k[-1] == 1))\n",
    "\n",
    "    def fill_row(loss, arch, gate):\n",
    "        return [accs.get((loss, arch, gate, k), None) for k in range(1, 5)]\n",
    "\n",
    "    data = [(*k1key, *fill_row(*k1key)) for k1key in k1keys]\n",
    "\n",
    "    # data = sort_order(data, 2, 1, 0)\n",
    "    columns = [\"Loss Type\", \"Architecture\", \"Gate Type\", \"Accuracy k=1\", \"k=2\", \"k=3\", \"k=4\"]\n",
    "    df = pd.DataFrame(\n",
    "        data=data,\n",
    "        # index=index,\n",
    "        columns=columns,\n",
    "    )\n",
    "\n",
    "    fmts_max_4f = {\n",
    "        column: partial(bold_formatter, value=(baseline_acc or 0) + 1e-4, num_decimals=4)\n",
    "        for column in columns[3:]\n",
    "    }\n",
    "    print(\n",
    "        df.to_latex(\n",
    "            formatters=fmts_max_4f if baseline_acc else None, escape=False, na_rep=\"\", index=False\n",
    "        )\n",
    "    )"
   ]
  },
  {
   "cell_type": "code",
   "execution_count": null,
   "metadata": {
    "pycharm": {
     "name": "#%%\n"
    }
   },
   "outputs": [],
   "source": []
  },
  {
   "cell_type": "code",
   "execution_count": null,
   "metadata": {
    "pycharm": {
     "name": "#%%\n"
    }
   },
   "outputs": [],
   "source": [
    "runs = get_runs(project=\"robust-cifar100-resnet-moe\")\n",
    "runs = [run for run in runs if run.state == \"finished\"]\n",
    "runs = [run for run in runs if run.config.get(\"model.model.num_experts\") == 4]\n",
    "runs = [run for run in runs if run.config.get(\"model.model.expert_capacity\") == \"None\"]"
   ]
  },
  {
   "cell_type": "code",
   "execution_count": null,
   "metadata": {
    "pycharm": {
     "name": "#%%\n"
    }
   },
   "outputs": [],
   "source": [
    "std_runs = [run for run in runs if \"Cross\" in run.config.get(\"model._target_\")]\n",
    "robust_runs = [run for run in runs if \"pgd\" in run.config.get(\"model._target_\")]"
   ]
  },
  {
   "cell_type": "code",
   "execution_count": null,
   "metadata": {
    "pycharm": {
     "name": "#%%\n"
    }
   },
   "outputs": [],
   "source": [
    "table_for_runs(std_runs, \"test/acc\", baseline_acc=0.7301)\n",
    "# table_for_runs(std_runs, \"test/main_loss\", baseline_acc=None)\n",
    "table_for_runs(std_runs, \"attack/acc\", baseline_acc=1e-4)\n",
    "# table_for_runs(std_runs, \"attack/main_loss\", baseline_acc=None)"
   ]
  },
  {
   "cell_type": "code",
   "execution_count": null,
   "metadata": {
    "pycharm": {
     "name": "#%%\n"
    }
   },
   "outputs": [],
   "source": [
    "table_for_runs(robust_runs, baseline_acc=0.5232)\n",
    "table_for_runs(robust_runs, \"attack/acc\", baseline_acc=0.178)"
   ]
  },
  {
   "cell_type": "code",
   "execution_count": null,
   "metadata": {
    "pycharm": {
     "name": "#%%\n"
    }
   },
   "outputs": [],
   "source": [
    "# printnames(robust_runs)\n",
    "print([(run.name, run.summary[\"attack/acc\"]) for run in robust_runs])"
   ]
  },
  {
   "cell_type": "code",
   "execution_count": null,
   "metadata": {
    "pycharm": {
     "name": "#%%\n"
    }
   },
   "outputs": [],
   "source": [
    "runs[0].config[\"model.model.expert_capacity\"]"
   ]
  },
  {
   "cell_type": "code",
   "execution_count": null,
   "metadata": {
    "pycharm": {
     "name": "#%%\n"
    }
   },
   "outputs": [],
   "source": []
  }
 ],
 "metadata": {
  "kernelspec": {
   "display_name": "Python 3 (ipykernel)",
   "language": "python",
   "name": "python3"
  },
  "language_info": {
   "codemirror_mode": {
    "name": "ipython",
    "version": 3
   },
   "file_extension": ".py",
   "mimetype": "text/x-python",
   "name": "python",
   "nbconvert_exporter": "python",
   "pygments_lexer": "ipython3",
   "version": "3.10.16"
  }
 },
 "nbformat": 4,
 "nbformat_minor": 1
}
