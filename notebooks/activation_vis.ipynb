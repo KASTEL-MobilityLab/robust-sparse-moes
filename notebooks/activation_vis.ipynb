{
 "cells": [
  {
   "cell_type": "code",
   "execution_count": null,
   "metadata": {},
   "outputs": [],
   "source": [
    "import os\n",
    "import random\n",
    "from functools import partial\n",
    "\n",
    "import torch\n",
    "from pytorch_lightning import LightningDataModule\n",
    "\n",
    "from src.datamodules.cifar100_datamodule import CIFAR100DataModule, cifar100_normalization\n",
    "from src.models.nn.moe.resnet_block_moe import ResNetBlockMoE\n",
    "from src.models.nn.moe.resnet_conv_moe import ResNetConvMoE\n",
    "from src.models.nn.moe.routing import ConvGlobalAvgRoutingNetwork, GlobalAvgLinearRoutingNetwork\n",
    "from src.evaluation.activation_visualization import (\n",
    "    _load_state_dict,\n",
    "    compute_sensitivity_to_attacks,\n",
    "    compute_sensitivity_to_gates,\n",
    "    compute_sensitivity_to_samples,\n",
    "    plot_grad_grid,\n",
    ")"
   ]
  },
  {
   "cell_type": "code",
   "execution_count": null,
   "metadata": {
    "pycharm": {
     "name": "#%%\n"
    }
   },
   "outputs": [],
   "source": [
    "# model = ResNetBlockMoE(\n",
    "#    num_classes=100, num_channels=3, small_inputs=True, layers=18, routing_layer_type=GlobalAvgLinearRoutingNetwork,\n",
    "#    num_experts=4, k=4\n",
    "# )"
   ]
  },
  {
   "cell_type": "code",
   "execution_count": null,
   "metadata": {
    "pycharm": {
     "name": "#%%\n"
    }
   },
   "outputs": [],
   "source": [
    "model = ResNetConvMoE(\n",
    "    num_classes=100,\n",
    "    num_channels=3,\n",
    "    small_inputs=True,\n",
    "    layers=18,\n",
    "    routing_layer_type=partial(ConvGlobalAvgRoutingNetwork, kernel_size=(3, 3)),\n",
    "    num_experts=4,\n",
    "    k=1,\n",
    ")"
   ]
  },
  {
   "cell_type": "code",
   "execution_count": null,
   "metadata": {
    "pycharm": {
     "name": "#%%\n"
    }
   },
   "outputs": [],
   "source": [
    "# Init datamodule\n",
    "datamodule: LightningDataModule = CIFAR100DataModule()\n",
    "datamodule.prepare_data()\n",
    "datamodule.setup()"
   ]
  },
  {
   "cell_type": "code",
   "execution_count": null,
   "metadata": {
    "pycharm": {
     "name": "#%%\n"
    }
   },
   "outputs": [],
   "source": [
    "run_name = \"cifar100-resnet18-free-adv-train-conv-moe4-CGARN-1\"\n",
    "project = \"robust-cifar100-resnet-moe\""
   ]
  },
  {
   "cell_type": "code",
   "execution_count": null,
   "metadata": {
    "pycharm": {
     "name": "#%%\n"
    }
   },
   "outputs": [],
   "source": [
    "import wandb\n",
    "\n",
    "wandb.init(\"try-visualization\", project=project)"
   ]
  },
  {
   "cell_type": "code",
   "execution_count": null,
   "metadata": {
    "pycharm": {
     "name": "#%%\n"
    }
   },
   "outputs": [],
   "source": [
    "state_dict = _load_state_dict(run_name=run_name, project=project)\n",
    "model.load_state_dict(state_dict)"
   ]
  },
  {
   "cell_type": "code",
   "execution_count": null,
   "metadata": {
    "pycharm": {
     "name": "#%%\n"
    }
   },
   "outputs": [],
   "source": [
    "loader = datamodule.test_dataloader()\n",
    "batch = next(loader.__iter__())\n",
    "normalize = cifar100_normalization()"
   ]
  },
  {
   "cell_type": "code",
   "execution_count": null,
   "metadata": {
    "pycharm": {
     "name": "#%%\n"
    }
   },
   "outputs": [],
   "source": [
    "random.seed(5)\n",
    "choices = random.sample(range(len(batch[0])), k=5)\n",
    "\n",
    "gates = [\n",
    "    model.model.layer4[0].conv1.gate,\n",
    "    model.model.layer4[0].conv2.gate,\n",
    "    model.model.layer4[1].conv1.gate,\n",
    "    model.model.layer4[1].conv2.gate,\n",
    "]\n",
    "gate_names = [f\"layer4.{b}.conv{c}\" for b, c in ((0, 1), (0, 2), (1, 1), (1, 2))]\n",
    "\n",
    "for idx in choices:\n",
    "    sample, target = batch[0][idx], batch[1][idx]\n",
    "    grad_grid = compute_sensitivity_to_gates(model, gates, normalize, sample)\n",
    "\n",
    "    target_class = datamodule.class_map[target.item()]\n",
    "    titles = [f\"Class: {target_class}, Gate: {gate_name}\" for gate_name in gate_names]\n",
    "\n",
    "    fig = plot_grad_grid(len(gates) * [sample], grad_grid, titles)\n",
    "\n",
    "    os.makedirs(f\"expert_attention_{run_name}\", exist_ok=True)\n",
    "    fig.savefig(f\"expert_attention_{run_name}/{idx}_{target_class}.png\")"
   ]
  },
  {
   "cell_type": "code",
   "execution_count": null,
   "metadata": {
    "pycharm": {
     "name": "#%%\n"
    }
   },
   "outputs": [],
   "source": [
    "random.seed(5)\n",
    "choices = random.sample(range(len(batch[0])), k=5)\n",
    "\n",
    "gates = [\n",
    "    model.model.layer4[0].conv1.gate,\n",
    "    model.model.layer4[0].conv2.gate,\n",
    "    model.model.layer4[1].conv1.gate,\n",
    "    model.model.layer4[1].conv2.gate,\n",
    "]\n",
    "gate_names = [f\"layer4.{b}.conv{c}\" for b, c in ((0, 1), (0, 2), (1, 1), (1, 2))]\n",
    "\n",
    "for gate, gate_name in zip(gates, gate_names):\n",
    "    samples, targets = batch[0][choices], batch[1][choices]\n",
    "    samples = torch.rand_like(samples) * samples.std() + samples.mean()\n",
    "    grad_grid = compute_sensitivity_to_samples(model, gate, normalize, samples)\n",
    "\n",
    "    target_classes = [datamodule.class_map[target.item()] for target in targets]\n",
    "    titles = [f\"Class: {target_class}, Gate: {gate_name}\" for target_class in target_classes]\n",
    "\n",
    "    fig = plot_grad_grid(samples, grad_grid, titles)\n",
    "\n",
    "    os.makedirs(f\"expert_attention_{run_name}\", exist_ok=True)\n",
    "    fig.savefig(f\"expert_attention_{run_name}/random_{gate_name}.png\")"
   ]
  },
  {
   "cell_type": "code",
   "execution_count": null,
   "metadata": {
    "pycharm": {
     "name": "#%%\n"
    }
   },
   "outputs": [],
   "source": [
    "% load_ext autoreload\n",
    "% autoreload 2\n",
    "\n",
    "random.seed(5)\n",
    "choices = random.sample(range(len(batch[0])), k=5)\n",
    "\n",
    "gate = model.model.layer4[0].conv2.gate\n",
    "gate_name = \"layer4.0.conv2\"\n",
    "\n",
    "steps_list = [0, 8, 16, 32, 64]\n",
    "eps = 8\n",
    "alpha = 2\n",
    "\n",
    "for idx in choices:\n",
    "    sample, target = batch[0][idx], batch[1][idx]\n",
    "    grad_grid, all_inputs = compute_sensitivity_to_attacks(\n",
    "        model, normalize, gate, sample, target, eps=eps, alpha=alpha, steps_list=steps_list\n",
    "    )\n",
    "    preds = [pred for _, _, pred in grad_grid]\n",
    "\n",
    "    target_class = datamodule.class_map[target.item()]\n",
    "    titles = [\n",
    "        f\"Class: {target_class},Pred: {datamodule.class_map[pred.argmax().item()]},PGD(steps={steps},eps={eps},alpha={alpha})\"\n",
    "        for steps, pred in zip(steps_list, preds)\n",
    "    ]\n",
    "\n",
    "    fig = plot_grad_grid(all_inputs, grad_grid, titles)\n",
    "\n",
    "    os.makedirs(f\"expert_attention_{run_name}\", exist_ok=True)\n",
    "    fig.savefig(f\"expert_attention_{run_name}/{idx}_{target_class}.png\")"
   ]
  },
  {
   "cell_type": "code",
   "execution_count": null,
   "metadata": {
    "pycharm": {
     "name": "#%%\n"
    }
   },
   "outputs": [],
   "source": []
  }
 ],
 "metadata": {
  "kernelspec": {
   "display_name": "PyCharm (robust-sparse-moes)",
   "language": "python",
   "name": "pycharm-5ba1a65f"
  },
  "language_info": {
   "codemirror_mode": {
    "name": "ipython",
    "version": 2
   },
   "file_extension": ".py",
   "mimetype": "text/x-python",
   "name": "python",
   "nbconvert_exporter": "python",
   "pygments_lexer": "ipython2",
   "version": "2.7.6"
  }
 },
 "nbformat": 4,
 "nbformat_minor": 0
}
