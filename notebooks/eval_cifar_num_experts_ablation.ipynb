{
 "cells": [
  {
   "cell_type": "code",
   "execution_count": null,
   "metadata": {
    "pycharm": {
     "name": "#%%\n"
    }
   },
   "outputs": [],
   "source": [
    "from operator import itemgetter\n",
    "\n",
    "import numpy as np\n",
    "from matplotlib import pyplot as plt\n",
    "\n",
    "from src.utils.wandb import get_runs\n",
    "\n",
    "\n",
    "def printnames(runs):\n",
    "    print(f\"{len(runs)} runs:\")\n",
    "    for run in runs:\n",
    "        print(run.name)"
   ]
  },
  {
   "cell_type": "code",
   "execution_count": null,
   "metadata": {
    "pycharm": {
     "name": "#%%\n"
    }
   },
   "outputs": [],
   "source": [
    "runs = get_runs(project=\"robust-cifar100-resnet-moe\")\n",
    "runs = [run for run in runs if run.state == \"finished\"]\n",
    "runs = [run for run in runs if run.config.get(\"model.model.k\") == 1]"
   ]
  },
  {
   "cell_type": "code",
   "execution_count": null,
   "metadata": {
    "pycharm": {
     "name": "#%%\n"
    }
   },
   "outputs": [],
   "source": [
    "def plots_for_runs(runs, figname, acc_key=\"test/acc\", baseline_acc=0.7301, ylabel=\"Accuracy\"):\n",
    "    loss_types = [\"switch\" if \"switch\" in run.tags else \"entropy\" for run in runs]\n",
    "    num_experts = [run.config[\"model.model.num_experts\"] for run in runs]\n",
    "    accs = [run.summary[acc_key] for run in runs]\n",
    "\n",
    "    entropy_items = [idx for idx, loss in enumerate(loss_types) if loss == \"entropy\"]\n",
    "    switch_items = [idx for idx in range(len(loss_types)) if idx not in entropy_items]\n",
    "\n",
    "    data = list(zip(num_experts, accs))\n",
    "    entropy_data = sorted(itemgetter(*entropy_items)(data), key=lambda t: t[0])\n",
    "    switch_data = sorted(itemgetter(*switch_items)(data), key=lambda t: t[0])\n",
    "    np.random.seed(1)\n",
    "\n",
    "    # plt.xticks(num_experts_list)\n",
    "    # plt.xlim(1.5,max(num_experts_list)+1)\n",
    "    plt.ylabel(ylabel)\n",
    "    plt.xlabel(\"Number of Experts\")\n",
    "    print(loss_types)\n",
    "\n",
    "    legend = [\"ResNet18 Baseline\"]\n",
    "    plt.axhline(baseline_acc, color=\"green\", linestyle=\"--\")\n",
    "    plt.plot(*zip(*entropy_data), marker=\"x\")\n",
    "    legend.append(\"Entropy\")\n",
    "    plt.plot(*zip(*switch_data), marker=\"x\")\n",
    "    legend.append(\"Switch\")\n",
    "\n",
    "    plt.legend(legend)\n",
    "    plt.semilogx(base=2)\n",
    "    # plt.ylim(0.05, 0.3)\n",
    "    plt.savefig(figname)\n",
    "    plt.show()"
   ]
  },
  {
   "cell_type": "code",
   "execution_count": null,
   "metadata": {
    "pycharm": {
     "name": "#%%\n"
    }
   },
   "outputs": [],
   "source": [
    "def apply_filters(fs):\n",
    "    return list(filter(lambda run: all(f(run) for f in fs), runs))\n",
    "\n",
    "\n",
    "filters = [\n",
    "    lambda run: \"block\" in run.name,\n",
    "    lambda run: \"CGARN\" in run.name,\n",
    "    lambda run: \"CGARN\" in run.name,\n",
    "    lambda run: run.config.get(\"model.optimizer.lr\") == 0.1,\n",
    "    lambda run: run.config.get(\"trainer.max_epochs\") == 200,\n",
    "    lambda run: run.id != \"1jsf0owy\",\n",
    "]\n",
    "std_runs = apply_filters(filters + [lambda run: \"Cross\" in run.config.get(\"model._target_\")])\n",
    "pgd_runs = apply_filters(filters + [lambda run: \"pgd\" in run.config.get(\"model._target_\")])\n",
    "printnames(std_runs)\n",
    "printnames(pgd_runs)"
   ]
  },
  {
   "cell_type": "code",
   "execution_count": null,
   "metadata": {
    "pycharm": {
     "name": "#%%\n"
    }
   },
   "outputs": [],
   "source": [
    "plots_for_runs(\n",
    "    std_runs, figname=\"num_expert_plots/std_acc.png\", acc_key=\"test/acc\", baseline_acc=0.7301\n",
    ")\n",
    "plots_for_runs(\n",
    "    std_runs,\n",
    "    figname=\"num_expert_plots/std_adv_acc.png\",\n",
    "    acc_key=\"attack/acc\",\n",
    "    baseline_acc=1e-4,\n",
    "    ylabel=\"Adversarial Accuracy\",\n",
    ")"
   ]
  },
  {
   "cell_type": "code",
   "execution_count": null,
   "metadata": {
    "pycharm": {
     "name": "#%%\n"
    }
   },
   "outputs": [],
   "source": [
    "plots_for_runs(\n",
    "    pgd_runs, figname=\"num_expert_plots/robust_acc.png\", acc_key=\"test/acc\", baseline_acc=0.53\n",
    ")\n",
    "plots_for_runs(\n",
    "    pgd_runs,\n",
    "    figname=\"num_expert_plots/robust_adv_acc.png\",\n",
    "    acc_key=\"attack/acc\",\n",
    "    baseline_acc=0.178,\n",
    "    ylabel=\"Adversarial Accuracy\",\n",
    ")"
   ]
  },
  {
   "cell_type": "code",
   "execution_count": null,
   "metadata": {
    "pycharm": {
     "name": "#%%\n"
    }
   },
   "outputs": [],
   "source": [
    "loss_types = [\"switch\" if \"switch\" in run.tags else \"entropy\" for run in std_runs]\n",
    "num_experts = [run.config[\"model.model.num_experts\"] for run in std_runs]\n",
    "accs = [run.summary[\"test/acc\"] for run in std_runs]"
   ]
  },
  {
   "cell_type": "code",
   "execution_count": null,
   "metadata": {
    "pycharm": {
     "name": "#%%\n"
    }
   },
   "outputs": [],
   "source": [
    "pgd_runs[0].id"
   ]
  },
  {
   "cell_type": "code",
   "execution_count": null,
   "metadata": {
    "pycharm": {
     "name": "#%%\n"
    }
   },
   "outputs": [],
   "source": [
    "std_runs = [run for run in runs if \"Cross\" in run.config.get(\"model._target_\")]\n",
    "robust_runs = [run for run in runs if \"pgd\" in run.config.get(\"model._target_\")]"
   ]
  },
  {
   "cell_type": "code",
   "execution_count": null,
   "metadata": {
    "pycharm": {
     "name": "#%%\n"
    }
   },
   "outputs": [],
   "source": [
    "table_for_runs(std_runs, \"test/acc\", baseline_acc=0.7301)\n",
    "table_for_runs(std_runs, \"test/main_loss\", baseline_acc=None)\n",
    "table_for_runs(std_runs, \"attack/acc\", baseline_acc=1e-4)\n",
    "table_for_runs(std_runs, \"attack/main_loss\", baseline_acc=None)"
   ]
  },
  {
   "cell_type": "code",
   "execution_count": null,
   "metadata": {
    "pycharm": {
     "name": "#%%\n"
    }
   },
   "outputs": [],
   "source": [
    "table_for_runs(robust_runs)\n",
    "table_for_runs(robust_runs, \"attack/acc\", baseline_acc=None)"
   ]
  },
  {
   "cell_type": "code",
   "execution_count": null,
   "metadata": {
    "pycharm": {
     "name": "#%%\n"
    }
   },
   "outputs": [],
   "source": [
    "printnames(robust_runs)\n",
    "print([\"switch\" if \"switch\" in run.tags else \"entropy\" for run in robust_runs])"
   ]
  },
  {
   "cell_type": "code",
   "execution_count": null,
   "metadata": {
    "pycharm": {
     "name": "#%%\n"
    }
   },
   "outputs": [],
   "source": [
    "robust_runs[0].config[\"model.model.num_experts\"]"
   ]
  },
  {
   "cell_type": "code",
   "execution_count": null,
   "metadata": {
    "pycharm": {
     "name": "#%%\n"
    }
   },
   "outputs": [],
   "source": [
    "import pandas as pd\n",
    "from src.utils.latex import bold_formatter\n",
    "from functools import partial\n",
    "\n",
    "\n",
    "def table_for_runs(runs, acc_key=\"test/acc\", baseline_acc=0.7301):\n",
    "    loss_types = [\"switch\" if \"switch\" in run.tags else \"entropy\" for run in runs]\n",
    "    training = [\"PGD\" if \"pgd\" in run.config[\"model._target_\"] else \"SGD\" for run in runs]\n",
    "    gates = [\"CGARN\" if \"CGARN\" in run.name else \"GALRN\" for run in runs]\n",
    "    ns = np.array([int(run.config[\"model.model.num_experts\"]) for run in runs])\n",
    "\n",
    "    keys = list(tuple(x) for x in zip(loss_types, training, gates, ns))\n",
    "    accs = {key: run.summary[acc_key] for key, run in zip(keys, runs)}\n",
    "\n",
    "    def filter_by_k(it, k):\n",
    "        return [item for idx, item in enumerate(it) if ns[idx] == k]\n",
    "\n",
    "    loss_types = filter_by_k(loss_types, k=2)\n",
    "    training = filter_by_k(training, k=2)\n",
    "    gates = filter_by_k(gates, k=2)\n",
    "\n",
    "    accsks = [filter_by_k(accs, k=k) for k in (2, 4, 8, 16, 32)]\n",
    "\n",
    "    k1keys = list(sorted(k[:-1] for k in keys if k[-1] == 2))\n",
    "\n",
    "    def fill_row(loss, arch, gate):\n",
    "        return [accs.get((loss, arch, gate, k), None) for k in (2, 4, 8, 16, 32)]\n",
    "\n",
    "    data = [(*k1key, *fill_row(*k1key)) for k1key in k1keys]\n",
    "\n",
    "    # data = sort_order(data, 2, 1, 0)\n",
    "    columns = [\n",
    "        \"Loss Type\",\n",
    "        \"Architecture\",\n",
    "        \"Gate Type\",\n",
    "        \"Experts n=2\",\n",
    "        \"n=4\",\n",
    "        \"n=8\",\n",
    "        \"n=16\",\n",
    "        \"n=32\",\n",
    "    ]\n",
    "    df = pd.DataFrame(\n",
    "        data=data,\n",
    "        # index=index,\n",
    "        columns=columns,\n",
    "    )\n",
    "\n",
    "    fmts_max_4f = {\n",
    "        column: partial(bold_formatter, value=(baseline_acc or 0) + 1e-4, num_decimals=4)\n",
    "        for column in columns[3:]\n",
    "    }\n",
    "    print(\n",
    "        df.to_latex(\n",
    "            formatters=fmts_max_4f if baseline_acc else None, escape=False, na_rep=\"\", index=False\n",
    "        )\n",
    "    )"
   ]
  },
  {
   "cell_type": "code",
   "execution_count": null,
   "metadata": {
    "pycharm": {
     "name": "#%%\n"
    }
   },
   "outputs": [],
   "source": []
  },
  {
   "cell_type": "code",
   "execution_count": null,
   "metadata": {
    "pycharm": {
     "name": "#%%\n"
    }
   },
   "outputs": [],
   "source": [
    "num_expert_runs = get_runs(project=\"robust-cifar100-resnet-moe\", tags=(\"num_expert_ablation\",))"
   ]
  },
  {
   "cell_type": "code",
   "execution_count": null,
   "metadata": {
    "pycharm": {
     "name": "#%%\n"
    }
   },
   "outputs": [],
   "source": [
    "table_for_runs(num_expert_runs)"
   ]
  },
  {
   "cell_type": "code",
   "execution_count": null,
   "metadata": {
    "pycharm": {
     "name": "#%%\n"
    }
   },
   "outputs": [],
   "source": [
    "table_for_runs(num_expert_runs, acc_key=\"attack/acc\")"
   ]
  },
  {
   "cell_type": "code",
   "execution_count": null,
   "metadata": {
    "pycharm": {
     "name": "#%%\n"
    }
   },
   "outputs": [],
   "source": []
  }
 ],
 "metadata": {
  "kernelspec": {
   "display_name": "PyCharm (robust-sparse-moes)",
   "language": "python",
   "name": "pycharm-5ba1a65f"
  },
  "language_info": {
   "codemirror_mode": {
    "name": "ipython",
    "version": 2
   },
   "file_extension": ".py",
   "mimetype": "text/x-python",
   "name": "python",
   "nbconvert_exporter": "python",
   "pygments_lexer": "ipython2",
   "version": "2.7.6"
  }
 },
 "nbformat": 4,
 "nbformat_minor": 0
}
